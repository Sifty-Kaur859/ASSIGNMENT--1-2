{
 "cells": [
  {
   "cell_type": "code",
   "execution_count": 3,
   "id": "74334ddb-34d2-4d88-bb1f-6d69f6e44061",
   "metadata": {},
   "outputs": [
    {
     "name": "stdout",
     "output_type": "stream",
     "text": [
      "             Name  Class  Marks\n",
      "0      Sifty Kaur     10    100\n",
      "1  Diljit Dosanjh     11     99\n",
      "2         Tnishka     12     98\n",
      "    Name  Class  Marks\n",
      "0  False  False  False\n",
      "1  False  False  False\n",
      "2  False  False  False\n"
     ]
    }
   ],
   "source": [
    "import pandas as pd\n",
    "rt = pd.read_csv(r\"D:\\sifty.csv\")\n",
    "print(rt)\n",
    "print(rt.isnull())\n"
   ]
  },
  {
   "cell_type": "code",
   "execution_count": null,
   "id": "c1237747-657d-4349-8475-beb07469a0bd",
   "metadata": {},
   "outputs": [],
   "source": []
  }
 ],
 "metadata": {
  "kernelspec": {
   "display_name": "Python 3 (ipykernel)",
   "language": "python",
   "name": "python3"
  },
  "language_info": {
   "codemirror_mode": {
    "name": "ipython",
    "version": 3
   },
   "file_extension": ".py",
   "mimetype": "text/x-python",
   "name": "python",
   "nbconvert_exporter": "python",
   "pygments_lexer": "ipython3",
   "version": "3.13.5"
  }
 },
 "nbformat": 4,
 "nbformat_minor": 5
}
