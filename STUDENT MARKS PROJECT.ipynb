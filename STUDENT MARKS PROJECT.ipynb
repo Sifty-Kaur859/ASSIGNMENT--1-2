{
 "cells": [
  {
   "cell_type": "code",
   "execution_count": 3,
   "id": "42eae442-b81d-441e-8434-92658397273f",
   "metadata": {},
   "outputs": [
    {
     "name": "stdout",
     "output_type": "stream",
     "text": [
      "Sifty Kaur love DILJIT DOSANJH\n"
     ]
    }
   ],
   "source": [
    "print(\"Sifty Kaur love DILJIT DOSANJH\")\n"
   ]
  },
  {
   "cell_type": "code",
   "execution_count": 8,
   "id": "2d54e826-6943-46fc-ac0b-0cd35eb6f59f",
   "metadata": {},
   "outputs": [
    {
     "name": "stdout",
     "output_type": "stream",
     "text": [
      "['ram', 'raman', 'Sifty']\n"
     ]
    }
   ],
   "source": [
    "g={'name':['ram','raman','Sifty'],'class':[10,11,12]}\n",
    "i=g.pop('name')\n",
    "print(i)"
   ]
  },
  {
   "cell_type": "code",
   "execution_count": 10,
   "id": "0fc122c0-971e-421b-a378-b6e93da67516",
   "metadata": {},
   "outputs": [
    {
     "name": "stdout",
     "output_type": "stream",
     "text": [
      "None\n"
     ]
    }
   ],
   "source": [
    "g={'name':['ram','raman','Sifty'],'class':[10,11,12]}\n",
    "i=g.clear()\n",
    "print(i)"
   ]
  },
  {
   "cell_type": "code",
   "execution_count": 11,
   "id": "bad8e205-9451-4dd1-917d-7cea90cd2146",
   "metadata": {},
   "outputs": [
    {
     "name": "stdout",
     "output_type": "stream",
     "text": [
      "dict_items([('name', ['ram', 'raman', 'Sifty']), ('class', [10, 11, 12])])\n"
     ]
    }
   ],
   "source": [
    "g={'name':['ram','raman','Sifty'],'class':[10,11,12]}\n",
    "i=g.items()\n",
    "print(i)"
   ]
  },
  {
   "cell_type": "code",
   "execution_count": 16,
   "id": "cb75c9ae-90be-456c-875e-5782a65a2b1c",
   "metadata": {},
   "outputs": [
    {
     "name": "stdout",
     "output_type": "stream",
     "text": [
      "Highest marks 100\n",
      "Lowest marks 95\n",
      "Average Marks 98.0\n",
      "{'Name': ['Sifty', 'Diljit', 'Tanishka', 'Gyan'], 'Marks': [95, 98, 99, 100]}\n"
     ]
    }
   ],
   "source": [
    "Student={'Name':['Sifty','Diljit','Tanishka'],'Marks':[100,100,98]}\n",
    "Student['Name'].append('Gyan')\n",
    "Student['Marks'].append(95)\n",
    "Student['Marks']=[95,98,99,100]\n",
    "marks=Student['Marks']\n",
    "highest=max(marks)\n",
    "Lowest=min(marks)\n",
    "average=sum(marks)/len(marks)\n",
    "print(\"Highest marks\",highest)\n",
    "print(\"Lowest marks\",Lowest)\n",
    "print(\"Average Marks\",average)\n",
    "print(Student)"
   ]
  },
  {
   "cell_type": "code",
   "execution_count": null,
   "id": "f0ca5d88-4ffa-4789-a147-7468e6bb13ae",
   "metadata": {},
   "outputs": [],
   "source": []
  }
 ],
 "metadata": {
  "kernelspec": {
   "display_name": "Python 3 (ipykernel)",
   "language": "python",
   "name": "python3"
  },
  "language_info": {
   "codemirror_mode": {
    "name": "ipython",
    "version": 3
   },
   "file_extension": ".py",
   "mimetype": "text/x-python",
   "name": "python",
   "nbconvert_exporter": "python",
   "pygments_lexer": "ipython3",
   "version": "3.12.4"
  }
 },
 "nbformat": 4,
 "nbformat_minor": 5
}
