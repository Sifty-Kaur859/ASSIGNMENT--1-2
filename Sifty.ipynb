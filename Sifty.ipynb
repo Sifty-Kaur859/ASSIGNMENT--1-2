{
 "cells": [
  {
   "cell_type": "code",
   "execution_count": 1,
   "id": "cf1d46b6-0029-4e4a-81be-d894c7a19175",
   "metadata": {},
   "outputs": [
    {
     "name": "stdout",
     "output_type": "stream",
     "text": [
      "library fine calculator\n"
     ]
    },
    {
     "name": "stdin",
     "output_type": "stream",
     "text": [
      "enter the number of days overdued 5\n"
     ]
    },
    {
     "name": "stdout",
     "output_type": "stream",
     "text": [
      "no fine\n"
     ]
    }
   ],
   "source": [
    "print('library fine calculator')\n",
    "day=int(input('enter the number of days overdued'))\n",
    "if day==0 or day<=7:\n",
    "    print('no fine')\n",
    "elif day>7 and day<10:\n",
    "    print('fine is rs.10')\n",
    "elif day>10:\n",
    "    print('fine is rs.50')\n",
    "else:\n",
    "    print('invalid input')"
   ]
  },
  {
   "cell_type": "code",
   "execution_count": 3,
   "id": "95738d9e-422d-4091-858a-20a9ada3052c",
   "metadata": {},
   "outputs": [
    {
     "name": "stdout",
     "output_type": "stream",
     "text": [
      "electricity bill generator\n"
     ]
    },
    {
     "name": "stdin",
     "output_type": "stream",
     "text": [
      "enter the units of electricity consumed 500\n"
     ]
    },
    {
     "name": "stdout",
     "output_type": "stream",
     "text": [
      "bill is rs. 300\n"
     ]
    }
   ],
   "source": [
    "print('electricity bill generator')\n",
    "ut=int(input('enter the units of electricity consumed'))\n",
    "if ut<100 or ut==100:\n",
    "    print('no bill')\n",
    "elif ut>100 and ut<500:\n",
    "    print('bill is rs. 300')\n",
    "elif ut==500:\n",
    "    print('bill is rs. 300')\n",
    "elif ut>500 and ut<700:\n",
    "    print('bill is rs. 500')\n",
    "elif ut==700:\n",
    "    print('bill is rs. 500')\n",
    "else:\n",
    "    print('bill is rs. 800')"
   ]
  },
  {
   "cell_type": "code",
   "execution_count": 5,
   "id": "2c33fdc2-8707-4173-b241-2ea261fc65fd",
   "metadata": {},
   "outputs": [
    {
     "name": "stdout",
     "output_type": "stream",
     "text": [
      "\t\t\t\t\tLOGIN STATEMENT\t\t\t\t\t\n"
     ]
    },
    {
     "name": "stdin",
     "output_type": "stream",
     "text": [
      "Enter the password:  101\n"
     ]
    },
    {
     "name": "stdout",
     "output_type": "stream",
     "text": [
      "Successful Login\n"
     ]
    }
   ],
   "source": [
    "print(\"\\t\\t\\t\\t\\tLOGIN STATEMENT\\t\\t\\t\\t\\t\")\n",
    "count = 0\n",
    "while count < 3:\n",
    "    password = input(\"Enter the password: \")\n",
    "    if password == '101':\n",
    "        print(\"Successful Login\")\n",
    "        break\n",
    "    else:\n",
    "        print(\"Wrong password\")\n",
    "        count += 1\n",
    "        if count == 3:\n",
    "            print(\"Try again later\")"
   ]
  },
  {
   "cell_type": "code",
   "execution_count": 7,
   "id": "cb906f8f-0ac4-4504-9a5f-8b6023ca62db",
   "metadata": {},
   "outputs": [
    {
     "name": "stdin",
     "output_type": "stream",
     "text": [
      "Enter the distance (in km):  5\n",
      "Enter your age:  19\n",
      "Enter 1 if you are female, else enter 0:  1\n"
     ]
    },
    {
     "name": "stdout",
     "output_type": "stream",
     "text": [
      "No ticket fare\n"
     ]
    }
   ],
   "source": [
    "distance = float(input(\"Enter the distance (in km): \"))\n",
    "age = int(input(\"Enter your age: \"))\n",
    "female = int(input(\"Enter 1 if you are female, else enter 0: \"))\n",
    "\n",
    "if female == 1:\n",
    "    print('No ticket fare')\n",
    "elif distance <= 1:\n",
    "    if age < 40:\n",
    "        print('Fare is Rs 5')\n",
    "    else:\n",
    "        print('Fare is Rs 10')\n",
    "elif distance <= 4:\n",
    "    if age < 40:\n",
    "        print('Fare is Rs 10')\n",
    "    else:\n",
    "        print('Fare is Rs 15')\n",
    "elif distance <= 7:\n",
    "    if age > 40:\n",
    "        print('Fare is Rs 12')\n",
    "    else:\n",
    "        print('Fare is Rs 8')\n",
    "else:\n",
    "    print('Fare not defined for this distance')"
   ]
  },
  {
   "cell_type": "code",
   "execution_count": 9,
   "id": "97074b66-328c-485d-b575-a19882d4687b",
   "metadata": {},
   "outputs": [
    {
     "name": "stdout",
     "output_type": "stream",
     "text": [
      "\t\t\t\t\tCalculator\t\t\t\t\t\n"
     ]
    },
    {
     "name": "stdin",
     "output_type": "stream",
     "text": [
      "Enter 1st value:  5\n",
      "Enter 2nd value:  5\n"
     ]
    },
    {
     "name": "stdout",
     "output_type": "stream",
     "text": [
      "\n",
      "Enter operation to be performed\n",
      "1) Addition (+)\n",
      "2) Subtraction (-)\n",
      "3) Multiplication (*)\n",
      "4) Division (/)\n"
     ]
    },
    {
     "name": "stdin",
     "output_type": "stream",
     "text": [
      "Enter operation (+, -, *, /):  +\n"
     ]
    },
    {
     "name": "stdout",
     "output_type": "stream",
     "text": [
      "Result: 10\n"
     ]
    }
   ],
   "source": [
    "print('\\t\\t\\t\\t\\tCalculator\\t\\t\\t\\t\\t')\n",
    "\n",
    "\n",
    "a = int(input('Enter 1st value: '))\n",
    "b = int(input('Enter 2nd value: '))\n",
    "\n",
    "\n",
    "print('\\nEnter operation to be performed')\n",
    "print('1) Addition (+)\\n2) Subtraction (-)\\n3) Multiplication (*)\\n4) Division (/)')\n",
    "\n",
    "operation = input('Enter operation (+, -, *, /): ')\n",
    "\n",
    "if operation == '+' or operation == '1':\n",
    "    print(\"Result:\", a + b)\n",
    "elif operation == '-' or operation == '2':\n",
    "    print(\"Result:\", a - b)\n",
    "elif operation == '*' or operation == '3':\n",
    "    print(\"Result:\", a * b)\n",
    "elif operation == '/' or operation == '4':\n",
    "        print(\"Result:\", a / b)\n",
    "else:\n",
    "    print(\"Invalid choice\")"
   ]
  },
  {
   "cell_type": "code",
   "execution_count": null,
   "id": "4755018f-bff2-40a4-9449-3bfaba2f9e31",
   "metadata": {},
   "outputs": [],
   "source": []
  }
 ],
 "metadata": {
  "kernelspec": {
   "display_name": "Python 3 (ipykernel)",
   "language": "python",
   "name": "python3"
  },
  "language_info": {
   "codemirror_mode": {
    "name": "ipython",
    "version": 3
   },
   "file_extension": ".py",
   "mimetype": "text/x-python",
   "name": "python",
   "nbconvert_exporter": "python",
   "pygments_lexer": "ipython3",
   "version": "3.12.4"
  }
 },
 "nbformat": 4,
 "nbformat_minor": 5
}
