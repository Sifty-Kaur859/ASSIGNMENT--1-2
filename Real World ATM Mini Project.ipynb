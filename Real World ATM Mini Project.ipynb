{
 "cells": [
  {
   "cell_type": "code",
   "execution_count": 1,
   "id": "637ebe2f-fd7c-46a3-a8a5-94d0afda93e6",
   "metadata": {},
   "outputs": [
    {
     "name": "stdout",
     "output_type": "stream",
     "text": [
      "\t\t\t\t\tWelcome to PNB ATM\n"
     ]
    },
    {
     "name": "stdin",
     "output_type": "stream",
     "text": [
      "Insert your card (type \"card\" to insert):  card\n"
     ]
    },
    {
     "name": "stdout",
     "output_type": "stream",
     "text": [
      "Welcome\n"
     ]
    },
    {
     "name": "stdin",
     "output_type": "stream",
     "text": [
      "Enter your pin:  1234\n"
     ]
    },
    {
     "name": "stdout",
     "output_type": "stream",
     "text": [
      "\t\t1) Check balance\n",
      "\t\t2) Cash withdrawal\n"
     ]
    },
    {
     "name": "stdin",
     "output_type": "stream",
     "text": [
      "Select your option:  1\n"
     ]
    },
    {
     "name": "stdout",
     "output_type": "stream",
     "text": [
      "Current balance: 10000\n"
     ]
    }
   ],
   "source": [
    "amount = 10000\n",
    "pin = 1234\n",
    "\n",
    "print('\\t\\t\\t\\t\\tWelcome to PNB ATM')\n",
    "\n",
    "# Simulating card insertion\n",
    "if input('Insert your card (type \"card\" to insert): ') == 'card':\n",
    "    print('Welcome')\n",
    "    \n",
    "    # PIN check\n",
    "    entered_pin = int(input('Enter your pin: '))\n",
    "    if pin == entered_pin:\n",
    "        print('\\t\\t1) Check balance\\n\\t\\t2) Cash withdrawal')\n",
    "        option = int(input('Select your option: '))\n",
    "\n",
    "        if option == 1:\n",
    "            print('Current balance:', amount)\n",
    "\n",
    "        elif option == 2:\n",
    "            user_amount = int(input('Enter your amount: '))\n",
    "            if user_amount <= amount:\n",
    "                amount -= user_amount\n",
    "                print('Please collect your cash.')\n",
    "                print('Current balance is:', amount)\n",
    "            else:\n",
    "                print('Insufficient balance.')\n",
    "        else:\n",
    "            print('Invalid Choice')\n",
    "    else:\n",
    "        print('Wrong pin')\n",
    "else:\n",
    "    print('Invalid card')"
   ]
  },
  {
   "cell_type": "code",
   "execution_count": null,
   "id": "5959ffe5-79df-44a6-bd61-623277dca250",
   "metadata": {},
   "outputs": [],
   "source": []
  }
 ],
 "metadata": {
  "kernelspec": {
   "display_name": "Python 3 (ipykernel)",
   "language": "python",
   "name": "python3"
  },
  "language_info": {
   "codemirror_mode": {
    "name": "ipython",
    "version": 3
   },
   "file_extension": ".py",
   "mimetype": "text/x-python",
   "name": "python",
   "nbconvert_exporter": "python",
   "pygments_lexer": "ipython3",
   "version": "3.12.4"
  }
 },
 "nbformat": 4,
 "nbformat_minor": 5
}
